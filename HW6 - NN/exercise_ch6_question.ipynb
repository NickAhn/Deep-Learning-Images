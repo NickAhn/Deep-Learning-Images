{
 "cells": [
  {
   "cell_type": "code",
   "execution_count": 1,
   "id": "cd833e97",
   "metadata": {},
   "outputs": [],
   "source": [
    "from collections import OrderedDict\n",
    "import torch\n",
    "import torch.optim as optim\n",
    "from torch import nn as nn"
   ]
  },
  {
   "cell_type": "code",
   "execution_count": 2,
   "id": "a442a9a8-b49e-4101-a382-2e3342d7c9c9",
   "metadata": {},
   "outputs": [],
   "source": [
    "# Input and output vectors are given. \n",
    "inp = [ 0.7300, -1.0400, -1.2300,  1.6700, -0.6300,  1.4300, -0.8400,  0.1500,\n",
    "         -2.3000,  3.1000, -1.4500, -1.8100,  1.8700, -0.1100, -0.2800,  1.1200,\n",
    "         -0.4200,  2.8900]\n",
    "out = [ 1.43,  10.1,  8.3,  1.03,  10.21, -0.1,  8.92,  5.1,\n",
    "         -7.53, 34.72,  7.61,  3.2,  2.19,  7.15,  7.69, -0.18,\n",
    "          8.81, 23.1]"
   ]
  },
  {
   "cell_type": "code",
   "execution_count": 12,
   "id": "07978b6d-94d0-473b-a137-7199551249a4",
   "metadata": {},
   "outputs": [
    {
     "data": {
      "text/plain": [
       "(torch.Size([15, 1]),\n",
       " torch.Size([15, 1]),\n",
       " torch.Size([3, 1]),\n",
       " torch.Size([3, 1]))"
      ]
     },
     "execution_count": 12,
     "metadata": {},
     "output_type": "execute_result"
    }
   ],
   "source": [
    "#Prepare the training and validation datasets: 80% training, 20% validation\n",
    "t_in = torch.Tensor(inp).unsqueeze(1)\n",
    "t_out = torch.Tensor(out).unsqueeze(1)\n",
    "\n",
    "samples_num = t_in.shape[0]\n",
    "n_val = int(0.2 * samples_num)\n",
    "\n",
    "shuffled_indices = torch.randperm(samples_num)\n",
    "\n",
    "train_indices = shuffled_indices[:-n_val]\n",
    "val_indices = shuffled_indices[-n_val:]\n",
    "\n",
    "train_indices, val_indices\n",
    "\n",
    "train_t_in = t_in[train_indices]\n",
    "train_t_out = t_out[train_indices]\n",
    "val_t_in = t_in[val_indices]\n",
    "val_t_out = t_out[val_indices]\n",
    "\n",
    "train_t_in.shape, train_t_out.shape, val_t_in.shape, val_t_out.shape"
   ]
  },
  {
   "cell_type": "code",
   "execution_count": 13,
   "id": "0fa9e83f-8cf1-4ef0-bede-e6356e16634c",
   "metadata": {},
   "outputs": [
    {
     "name": "stdout",
     "output_type": "stream",
     "text": [
      "------ Linear Layer 1 ------\n",
      "\tIn features: 1\n",
      "\tOut features: 15\n",
      "\tBias: torch.Size([15])\n",
      "\n",
      "------ Activation Layer ------\n",
      "<bound method Module.type of Tanh()>\n",
      "\n",
      "------ Linear Layer 2 ------\n",
      "\tIn features: 15\n",
      "\tOut features: 23\n",
      "\tBias: torch.Size([23])\n",
      "\n",
      "------ Linear Layer 3 ------\n",
      "\tIn features: 23\n",
      "\tOut features: 1\n",
      "\tBias: torch.Size([1])\n",
      "\n",
      "Layer 1.weight \t torch.Size([15, 1])\n",
      "Layer 1.bias \t torch.Size([15])\n",
      "Layer 2.weight \t torch.Size([23, 15])\n",
      "Layer 2.bias \t torch.Size([23])\n",
      "Layer 3.weight \t torch.Size([1, 23])\n",
      "Layer 3.bias \t torch.Size([1])\n"
     ]
    }
   ],
   "source": [
    "#Create a NN that consists of:\n",
    "# a linear layer of input size 1 and output size 15, followed by hyperbolic tangent as its activation function\n",
    "# a linear layer of input size 15 and output size 23, followed by hyperbolic tangent as its activation function\n",
    "# a linear layer of input size 23 and output size 1\n",
    "layer1 = nn.Linear(1,15)\n",
    "layer2 = nn.Linear(15, 23)\n",
    "layer3 = nn.Linear(23, 1)\n",
    "\n",
    "\n",
    "seq_model = nn.Sequential(OrderedDict([\n",
    "    ('Layer 1', layer1),\n",
    "    ('Hidden Activation', nn.Tanh()),\n",
    "    ('Layer 2', layer2),\n",
    "    ('Hidden Activation', nn.Tanh()),\n",
    "    ('Layer 3', layer3)\n",
    "]))\n",
    "\n",
    "\n",
    "# Write a little script that shows the number of parameters in each layer.\n",
    "# Based on the output of this script, report as a comment in your code how many weights and biases exist in each layer.\n",
    "i = 1\n",
    "for layer in seq_model:\n",
    "    if isinstance(layer, torch.nn.modules.linear.Linear):\n",
    "        print(\"------ Linear Layer\", i, \"------\")\n",
    "        print(\"\\tIn features:\",layer.in_features)\n",
    "        print(\"\\tOut features:\", layer.out_features)\n",
    "        print(\"\\tBias:\",layer.bias.shape)\n",
    "        i+=1\n",
    "    else:\n",
    "        print(\"------ Activation Layer ------\")\n",
    "        print(layer.type)\n",
    "    print()\n",
    "    \n",
    "\n",
    "for name, param in seq_model.named_parameters():\n",
    "    print(name, \"\\t\", param.shape, end=\"\\n\")\n",
    "    \n",
    "\n",
    "# Next, define the training function that receives training and validation datasets, along with a model, loss function, \n",
    "# optimizer, and number of epochs. The function must use the model's own parameter handling and the the input loss function\n",
    "# to automatically calculate the gradient of the loss wrt parameters (autograd), and use optimizer to update the parameters \n",
    "# and zero the gradients. \n",
    "\n",
    "# t_u = in\n",
    "# t_c = out\n",
    "def training_loop(n_epochs, optimizer, model, loss_fn, t_u_train, t_u_val, t_c_train, t_c_val):\n",
    "    for epoch in range(1, n_epochs + 1):\n",
    "        t_p_train = model(t_u_train)\n",
    "        loss_train = loss_fn(t_p_train, t_c_train)\n",
    "        \n",
    "        t_p_val = model(t_u_val)\n",
    "        \n",
    "        loss_val = loss_fn(t_p_val, t_c_val)\n",
    "        \n",
    "        optimizer.zero_grad()\n",
    "        loss_train.backward()\n",
    "        optimizer.step()\n",
    "        \n",
    "        if epoch == 1 or epoch % 10000 == 0:\n",
    "            print(f\"Epoch {epoch}, Training loss {loss_train.item():.4f},\"\n",
    "                  f\" Validation loss {loss_val.item():.4f}\")\n",
    "        \n"
   ]
  },
  {
   "cell_type": "code",
   "execution_count": 14,
   "id": "a3b3b7ea-9e5a-4326-ac0a-dc6ae8f62da7",
   "metadata": {
    "scrolled": false
   },
   "outputs": [
    {
     "name": "stdout",
     "output_type": "stream",
     "text": [
      "Epoch 1, Training loss 147.1999, Validation loss 75.0468\n",
      "Epoch 10000, Training loss 0.3438, Validation loss 7.6638\n",
      "Epoch 20000, Training loss 0.1669, Validation loss 4.6518\n",
      "Epoch 30000, Training loss 0.1230, Validation loss 3.4557\n",
      "Epoch 40000, Training loss 0.1096, Validation loss 2.9361\n",
      "Epoch 50000, Training loss 0.1047, Validation loss 2.6200\n",
      "Epoch 60000, Training loss 0.1023, Validation loss 2.3902\n",
      "Epoch 70000, Training loss 0.1007, Validation loss 2.2109\n",
      "Epoch 80000, Training loss 0.0995, Validation loss 2.0653\n",
      "Epoch 90000, Training loss 0.0987, Validation loss 1.9440\n",
      "Epoch 100000, Training loss 0.0980, Validation loss 1.8404\n"
     ]
    }
   ],
   "source": [
    "# Train your NN with built-in mean square error loss function and SGD optimizer. \n",
    "# Try different learning rates and number of epochs improve the results.\n",
    "# t_u_train = t_in_train\n",
    "# t_u_val\n",
    "\n",
    "import torch.optim as optim\n",
    "\n",
    "optimizer = optim.SGD(seq_model.parameters(), lr=1e-3)\n",
    "\n",
    "model = training_loop(\n",
    "    n_epochs = 100000,\n",
    "    optimizer = optimizer,\n",
    "    model = seq_model,\n",
    "    loss_fn = nn.MSELoss(),\n",
    "    t_u_train = train_t_in,\n",
    "    t_u_val = val_t_in,\n",
    "    t_c_train = train_t_out,\n",
    "    t_c_val = val_t_out\n",
    ")"
   ]
  },
  {
   "cell_type": "code",
   "execution_count": 17,
   "id": "f8b15d0e-32c9-4e19-8a4a-203594d8a31a",
   "metadata": {},
   "outputs": [
    {
     "data": {
      "text/plain": [
       "[<matplotlib.lines.Line2D at 0x7f6564252250>]"
      ]
     },
     "execution_count": 17,
     "metadata": {},
     "output_type": "execute_result"
    },
    {
     "data": {
      "image/png": "[encoded data removed]",
      "text/plain": [
       "<Figure size 640x480 with 1 Axes>"
      ]
     },
     "metadata": {},
     "output_type": "display_data"
    }
   ],
   "source": [
    "# Plot the trained function.\n",
    "from matplotlib import pyplot as plt\n",
    "\n",
    "t_range = torch.arange(-2.5, 4.5).unsqueeze(1)\n",
    "\n",
    "fig = plt.figure(dpi=100)\n",
    "plt.xlabel(\"Input\")\n",
    "plt.ylabel(\"Output\")\n",
    "plt.plot(t_in.numpy(), t_out.numpy(), 'o')\n",
    "plt.plot(t_range.numpy(), seq_model(t_range).detach().numpy(), 'c-')\n",
    "plt.plot(t_in.numpy(), seq_model(t_in).detach().numpy(), 'kx')"
   ]
  },
  {
   "cell_type": "code",
   "execution_count": null,
   "id": "5c0e4a93",
   "metadata": {},
   "outputs": [],
   "source": []
  }
 ],
 "metadata": {
  "kernelspec": {
   "display_name": ".venv",
   "language": "python",
   "name": ".venv"
  },
  "language_info": {
   "codemirror_mode": {
    "name": "ipython",
    "version": 3
   },
   "file_extension": ".py",
   "mimetype": "text/x-python",
   "name": "python",
   "nbconvert_exporter": "python",
   "pygments_lexer": "ipython3",
   "version": "3.9.12"
  }
 },
 "nbformat": 4,
 "nbformat_minor": 5
}
