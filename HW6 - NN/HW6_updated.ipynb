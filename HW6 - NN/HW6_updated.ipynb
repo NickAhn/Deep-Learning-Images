{
 "cells": [
  {
   "cell_type": "code",
   "execution_count": 1,
   "id": "05076f3d-7feb-4554-a4cf-1ee96c7f6e57",
   "metadata": {},
   "outputs": [],
   "source": [
    "# Input and output vectors are given. \n",
    "inp = [ 0.7300, -1.0400, -1.2300,  1.6700, -0.6300,  1.4300, -0.8400,  0.1500,\n",
    "         -2.3000,  3.1000, -1.4500, -1.8100,  1.8700, -0.1100, -0.2800,  1.1200,\n",
    "         -0.4200,  2.8900]\n",
    "'''out = [ 1.23,  9.84,  9.47,  0.73,  9.61, -0.1,  9.09,  4.8,\n",
    "         -7.6, 35.37,  7.85,  3.6,  2.39,  6.85,  7.9, -0.18,\n",
    "          8.51, 25.8]'''\n",
    "out = [ 1.43,  10.1,  8.3,  1.03,  10.21, -0.1,  8.92,  5.1,\n",
    "         -7.53, 34.72,  7.61,  3.2,  2.19,  7.15,  7.69, -0.18,\n",
    "          8.81, 23.1]"
   ]
  },
  {
   "cell_type": "code",
   "execution_count": 2,
   "id": "54ddf491-dd63-4f06-ab4f-746155c36f5c",
   "metadata": {},
   "outputs": [
    {
     "data": {
      "text/plain": [
       "(torch.Size([15, 1]),\n",
       " torch.Size([15, 1]),\n",
       " torch.Size([3, 1]),\n",
       " torch.Size([3, 1]))"
      ]
     },
     "execution_count": 2,
     "metadata": {},
     "output_type": "execute_result"
    }
   ],
   "source": [
    "import torch\n",
    "\n",
    "inp = torch.tensor(inp).unsqueeze(1)\n",
    "out = torch.tensor(out).unsqueeze(1)\n",
    "\n",
    "n_samples = inp.shape[0]\n",
    "shuffled_indexes = torch.randperm(n_samples)\n",
    "\n",
    "n_val = int(n_samples * 0.2)\n",
    "n_train = n_samples - n_val\n",
    "\n",
    "val_indexes = shuffled_indexes[:n_val]\n",
    "train_indexes = shuffled_indexes[n_val:]\n",
    "\n",
    "train_inp = inp[train_indexes]\n",
    "train_out = out[train_indexes]\n",
    "val_inp = inp[val_indexes]\n",
    "val_out = out[val_indexes]\n",
    "\n",
    "train_inp.shape, train_out.shape, val_inp.shape, val_out.shape"
   ]
  },
  {
   "cell_type": "code",
   "execution_count": 68,
   "id": "6f0448f2-b306-41cf-abf8-c9db56b69653",
   "metadata": {},
   "outputs": [
    {
     "name": "stdout",
     "output_type": "stream",
     "text": [
      "0.weight torch.Size([15, 1])\n",
      "0.bias torch.Size([15])\n",
      "2.weight torch.Size([23, 15])\n",
      "2.bias torch.Size([23])\n",
      "4.weight torch.Size([1, 23])\n",
      "4.bias torch.Size([1])\n"
     ]
    }
   ],
   "source": [
    "import torch.nn as nn\n",
    "\n",
    "seq_model = nn.Sequential(nn.Linear(1,15),\n",
    "                          nn.Tanh(),\n",
    "                          nn.Linear(15,23),\n",
    "                          nn.Tanh(),\n",
    "                          nn.Linear(23,1))\n",
    "\n",
    "for (name, param) in seq_model.named_parameters():\n",
    "    print(name, param.shape)\n",
    "#L0: 15 w,  15 b\n",
    "#L2: 15*23 w, 23 b\n",
    "#L4: 23 w, 1 b\n",
    "\n",
    "def training(train_inp, train_out, val_inp, val_out,\n",
    "             model, optimizer, loss_fn, n_epochs):\n",
    "    for epoch in range(1 + n_epochs):\n",
    "        train_loss = loss_fn(model(train_inp), train_out)\n",
    "        with torch.no_grad():\n",
    "            val_loss = loss_fn(model(val_inp), val_out)\n",
    "        optimizer.zero_grad()\n",
    "        train_loss.backward()\n",
    "        optimizer.step()\n",
    "        if epoch % 5000== 0:\n",
    "            print('epoch %d, training loss %f, validation loss %f' %(epoch, float(train_loss), float(val_loss)))\n",
    "    return model"
   ]
  },
  {
   "cell_type": "code",
   "execution_count": 69,
   "id": "cc03ed84-e55c-45bd-8734-709b01d71570",
   "metadata": {},
   "outputs": [
    {
     "name": "stdout",
     "output_type": "stream",
     "text": [
      "epoch 0, training loss 156.415909, validation loss 50.940857\n",
      "epoch 5000, training loss 0.259971, validation loss 0.152511\n",
      "epoch 10000, training loss 0.203857, validation loss 0.110293\n",
      "epoch 15000, training loss 0.136786, validation loss 0.104868\n",
      "epoch 20000, training loss 0.129702, validation loss 0.103050\n",
      "epoch 25000, training loss 0.126805, validation loss 0.103899\n",
      "epoch 30000, training loss 0.124527, validation loss 0.107680\n",
      "epoch 35000, training loss 0.122602, validation loss 0.114122\n",
      "epoch 40000, training loss 0.120916, validation loss 0.123002\n",
      "epoch 45000, training loss 0.119415, validation loss 0.134104\n",
      "epoch 50000, training loss 0.118070, validation loss 0.147116\n"
     ]
    }
   ],
   "source": [
    "import torch.optim as optim\n",
    "\n",
    "model = training(train_inp = train_inp, train_out = train_out, \n",
    "                 val_inp = val_inp, val_out = val_out, \n",
    "                 model = seq_model, optimizer = optim.SGD(seq_model.parameters(), lr = 1e-3),\n",
    "                 loss_fn = nn.MSELoss(), n_epochs = 50000)"
   ]
  },
  {
   "cell_type": "code",
   "execution_count": 84,
   "id": "d91fd402-a494-4672-b40f-ff6d76c8836e",
   "metadata": {},
   "outputs": [
    {
     "data": {
      "text/plain": [
       "[<matplotlib.lines.Line2D at 0x10cadb730>]"
      ]
     },
     "execution_count": 84,
     "metadata": {},
     "output_type": "execute_result"
    },
    {
     "data": {
      "image/png": "[encoded data removed]",
      "text/plain": [
       "<Figure size 600x400 with 1 Axes>"
      ]
     },
     "metadata": {
      "needs_background": "light"
     },
     "output_type": "display_data"
    }
   ],
   "source": [
    "from matplotlib import pyplot as plt\n",
    "\n",
    "t_range = torch.arange(-2.5,4.5).unsqueeze(1)\n",
    "\n",
    "fig = plt.figure(dpi=100)\n",
    "plt.xlabel(\"Input\")\n",
    "plt.ylabel(\"Output\")\n",
    "pred = model(inp)\n",
    "plt.plot(t_range.numpy(), seq_model(t_range).detach().numpy(), 'g-')\n",
    "plt.plot(inp.numpy(), pred.detach().numpy(),'kx')\n",
    "plt.plot(inp.numpy(), out.numpy(), 'o')"
   ]
  }
 ],
 "metadata": {
  "kernelspec": {
   "display_name": "Python 3 (ipykernel)",
   "language": "python",
   "name": "python3"
  },
  "language_info": {
   "codemirror_mode": {
    "name": "ipython",
    "version": 3
   },
   "file_extension": ".py",
   "mimetype": "text/x-python",
   "name": "python",
   "nbconvert_exporter": "python",
   "pygments_lexer": "ipython3",
   "version": "3.9.12"
  }
 },
 "nbformat": 4,
 "nbformat_minor": 5
}
